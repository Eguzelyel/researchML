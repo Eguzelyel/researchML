{
 "cells": [
  {
   "cell_type": "markdown",
   "metadata": {},
   "source": [
    "#### Get IMDB data and vectorize it"
   ]
  },
  {
   "cell_type": "code",
   "execution_count": 29,
   "metadata": {},
   "outputs": [
    {
     "name": "stdout",
     "output_type": "stream",
     "text": [
      "Loading the imdb data\n",
      "Train Data loaded.\n",
      "Test Data loaded.\n",
      "Vectorizing data\n"
     ]
    }
   ],
   "source": [
    "from get_imdb import vectorize_data\n",
    "X_train_vector, y_train, X_test_vector , y_test = vectorize_data()"
   ]
  },
  {
   "cell_type": "markdown",
   "metadata": {},
   "source": [
    "#### Keras "
   ]
  },
  {
   "cell_type": "code",
   "execution_count": 5,
   "metadata": {},
   "outputs": [],
   "source": [
    "from keras.layers import Input, Dense\n",
    "from keras.models import Model"
   ]
  },
  {
   "cell_type": "code",
   "execution_count": 12,
   "metadata": {},
   "outputs": [
    {
     "data": {
      "text/plain": [
       "(84088, 1)"
      ]
     },
     "execution_count": 12,
     "metadata": {},
     "output_type": "execute_result"
    }
   ],
   "source": [
    "X_train_vector[0].T.shape"
   ]
  },
  {
   "cell_type": "code",
   "execution_count": 28,
   "metadata": {},
   "outputs": [
    {
     "name": "stdout",
     "output_type": "stream",
     "text": [
      "====> Fit model on training data\n",
      "Train on 25000 samples, validate on 25000 samples\n",
      "Epoch 1/1\n",
      " - 20s - loss: 0.4106 - acc: 0.8579 - val_loss: 0.3363 - val_acc: 0.8840\n",
      "====> Predict and get loss value + the accuracy metric\n",
      "25000/25000 [==============================] - 9s 372us/step\n",
      "====>  done\n"
     ]
    }
   ],
   "source": [
    "# define input to model\n",
    "inputs = Input(shape=(X_train_vector.shape[1],))\n",
    "# define output prediction of 0 hidden layer keras model \n",
    "predictions = Dense(1, activation='sigmoid')(inputs)\n",
    "\n",
    "# the model\n",
    "model = Model(inputs=inputs, outputs=predictions)\n",
    "model.compile(loss='binary_crossentropy',\n",
    "              optimizer='adam',\n",
    "              metrics=['accuracy'])\n",
    "\n",
    "# train\n",
    "print(\"====> Fit model on training data\")\n",
    "model.fit(X_train_vector, y_train,\n",
    "          validation_data=(X_test_vector, y_test),\n",
    "          verbose=2)\n",
    "\n",
    "# predict\n",
    "print(\"====> Predict and get loss value + the accuracy metric\")\n",
    "score, acc = model.evaluate(X_test_vector, y_test)\n",
    "\n",
    "print(\"====>  done\")"
   ]
  },
  {
   "cell_type": "code",
   "execution_count": 26,
   "metadata": {},
   "outputs": [
    {
     "name": "stdout",
     "output_type": "stream",
     "text": [
      "\n",
      "loss:\t\t0.33472765694618223\n",
      "accuracy:\t0.88504\n"
     ]
    }
   ],
   "source": [
    "print(\"\\nloss:\\t\\t{}\\naccuracy:\\t{}\".format(score, acc))"
   ]
  },
  {
   "cell_type": "code",
   "execution_count": 27,
   "metadata": {},
   "outputs": [
    {
     "name": "stdout",
     "output_type": "stream",
     "text": [
      "25000/25000 [==============================] - 9s 352us/step\n"
     ]
    },
    {
     "data": {
      "text/plain": [
       "array([[0.8552454 ],\n",
       "       [0.9981142 ],\n",
       "       [0.66660756],\n",
       "       ...,\n",
       "       [0.7216985 ],\n",
       "       [0.1973099 ],\n",
       "       [0.09719311]], dtype=float32)"
      ]
     },
     "execution_count": 27,
     "metadata": {},
     "output_type": "execute_result"
    }
   ],
   "source": [
    "model.predict(X_test_vector, batch_size=None, verbose=1)"
   ]
  },
  {
   "cell_type": "code",
   "execution_count": null,
   "metadata": {},
   "outputs": [],
   "source": []
  }
 ],
 "metadata": {
  "kernelspec": {
   "display_name": "Python 3",
   "language": "python",
   "name": "python3"
  },
  "language_info": {
   "codemirror_mode": {
    "name": "ipython",
    "version": 3
   },
   "file_extension": ".py",
   "mimetype": "text/x-python",
   "name": "python",
   "nbconvert_exporter": "python",
   "pygments_lexer": "ipython3",
   "version": "3.6.6"
  }
 },
 "nbformat": 4,
 "nbformat_minor": 2
}
